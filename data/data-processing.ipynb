{
 "cells": [
  {
   "cell_type": "code",
   "execution_count": 45,
   "metadata": {},
   "outputs": [],
   "source": [
    "import networkx as nx\n",
    "from networkx.readwrite import json_graph\n",
    "import pandas as pd\n",
    "import json\n",
    " \n",
    "G = nx.Graph()"
   ]
  },
  {
   "cell_type": "code",
   "execution_count": 48,
   "metadata": {},
   "outputs": [],
   "source": [
    "def toJsonRed(file):\n",
    "    nodes = pd.read_excel(file,sheetname=1)\n",
    "    edges = pd.read_excel(file,sheetname=0)\n",
    "\n",
    "    nodes_list = nodes.values.tolist()\n",
    "    edges_list = edges.values.tolist()\n",
    "\n",
    "    # Import id, name, and group into node of Networkx:\n",
    "    for i in nodes_list:\n",
    "        G.add_node(i[0], name=i[1], degree=i[2], category=i[3], year=i[4])\n",
    "    \n",
    "    # Import source, target, and value into edges of Networkx:\n",
    "    for i in edges_list:\n",
    "        G.add_edge(i[0], i[1], value=i[2], category=i[4])\n",
    "\n",
    "    # Write json for nodes-links format:\n",
    "    j = json_graph.node_link_data(G)\n",
    "    js = json.dumps(j, ensure_ascii=False, indent=2)\n",
    "    \n",
    "    with open(\"red.json\", \"w\") as file:\n",
    "        file.write(js)"
   ]
  },
  {
   "cell_type": "code",
   "execution_count": 49,
   "metadata": {},
   "outputs": [],
   "source": [
    "toJsonRed(r'final-datos.xlsx')"
   ]
  }
 ],
 "metadata": {
  "kernelspec": {
   "display_name": "Python 3",
   "language": "python",
   "name": "python3"
  },
  "language_info": {
   "codemirror_mode": {
    "name": "ipython",
    "version": 3
   },
   "file_extension": ".py",
   "mimetype": "text/x-python",
   "name": "python",
   "nbconvert_exporter": "python",
   "pygments_lexer": "ipython3",
   "version": "3.6.3"
  }
 },
 "nbformat": 4,
 "nbformat_minor": 2
}
